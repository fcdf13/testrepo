{
 "cells": [
  {
   "cell_type": "markdown",
   "id": "5fb50110-9bc3-43a1-9785-dd9c069f373c",
   "metadata": {},
   "source": [
    "Data Science Tools and Ecosystem\n"
   ]
  },
  {
   "cell_type": "markdown",
   "id": "fbf94524-63a9-456e-9663-a03d4a1b1fe1",
   "metadata": {},
   "source": [
    "In this notebook, Data Science Tools and Ecosystem are summarized."
   ]
  },
  {
   "cell_type": "markdown",
   "id": "abf323c5-490f-4667-bb5f-8f32de379611",
   "metadata": {},
   "source": [
    "Some of the popular languages that Data Scientists use are:\n",
    "1. Python\n",
    "2. R\n",
    "3. Julia"
   ]
  },
  {
   "cell_type": "markdown",
   "id": "087c23de-7d19-4a23-a7be-600bfefb265c",
   "metadata": {},
   "source": [
    "Some of the commonly used libraries used by Data Scientists include:\n",
    "1. pandas\n",
    "2. numpy\n",
    "3. scipy\n",
    "4. scikit-learn\n",
    "5. PyTorch\n",
    "6. nltk\n",
    "7. polars\n",
    "8. statsmodels"
   ]
  },
  {
   "cell_type": "markdown",
   "id": "276a7d1f-6386-4703-8ab5-8bcb747b10d0",
   "metadata": {},
   "source": [
    "| Data Science Tools |\n",
    "----------------------\n",
    "| Jupyter Notebook   |\r\n",
    "| RStudio            |\r\n",
    "GitHubde             |"
   ]
  },
  {
   "cell_type": "markdown",
   "id": "cfb999ae-75a0-4ef6-a9aa-8df94bad4fc2",
   "metadata": {},
   "source": [
    "### Below are a few examples of evaluating arithmetic expressions in Python"
   ]
  },
  {
   "cell_type": "code",
   "execution_count": 4,
   "id": "e9367a80-4a8d-4cca-bfc5-6852c687c19c",
   "metadata": {},
   "outputs": [
    {
     "name": "stdout",
     "output_type": "stream",
     "text": [
      "17\n"
     ]
    }
   ],
   "source": [
    "# This is a simple arithmetic expression to multiply then add integers.\n",
    "result = (3 * 4) + 5\n",
    "print(result)"
   ]
  },
  {
   "cell_type": "code",
   "execution_count": 5,
   "id": "88658b4c-ac17-4b2f-9698-7ba6d484c078",
   "metadata": {},
   "outputs": [
    {
     "name": "stdout",
     "output_type": "stream",
     "text": [
      "3.3333333333333335\n"
     ]
    }
   ],
   "source": [
    "# This will convert 200 minutes to hours by dividing by 60.\n",
    "minutes = 200\n",
    "hours = minutes / 60\n",
    "print(hours)"
   ]
  },
  {
   "cell_type": "markdown",
   "id": "cc692b2f-1ca2-436e-b843-2508e2c530d8",
   "metadata": {},
   "source": [
    "**Objectives:**\n",
    "\n",
    "- List popular languages for Data Science.\n",
    "- Introduce basic coding in Python and R.\n",
    "- Introduce how to build a worflow in GitHub.\n"
   ]
  },
  {
   "cell_type": "markdown",
   "id": "b2c9d751-e1c5-454c-8521-b6316366c184",
   "metadata": {},
   "source": [
    "## Author\n",
    "\n",
    "Felipe Carneiro de Figueredo"
   ]
  },
  {
   "cell_type": "code",
   "execution_count": null,
   "id": "20d8cb47-4bfa-489a-ac51-200aecb94e0b",
   "metadata": {},
   "outputs": [],
   "source": []
  }
 ],
 "metadata": {
  "kernelspec": {
   "display_name": "Python 3 (ipykernel)",
   "language": "python",
   "name": "python3"
  },
  "language_info": {
   "codemirror_mode": {
    "name": "ipython",
    "version": 3
   },
   "file_extension": ".py",
   "mimetype": "text/x-python",
   "name": "python",
   "nbconvert_exporter": "python",
   "pygments_lexer": "ipython3",
   "version": "3.11.7"
  }
 },
 "nbformat": 4,
 "nbformat_minor": 5
}
